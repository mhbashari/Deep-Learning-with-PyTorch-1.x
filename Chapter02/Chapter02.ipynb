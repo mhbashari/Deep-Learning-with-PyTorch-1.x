{
 "cells": [
  {
   "cell_type": "code",
   "execution_count": 34,
   "metadata": {
    "pycharm": {
     "name": "#%%\n"
    }
   },
   "outputs": [],
   "source": [
    "import torch\n",
    "import torch.nn as nn\n",
    "import torch.nn.functional as F\n",
    "class MyNeuralNet(nn.Module):\n",
    "    def __init__(self, input_size, n_nodes, output_size):\n",
    "        super(MyNeuralNet, self).__init__()\n",
    "        self.operationOne = nn.Linear(input_size, n_nodes)\n",
    "        self.operationTwo = nn.Linear(n_nodes, output_size)\n",
    "    def forward(self, x):\n",
    "        x = F.relu(self.operationOne(x))\n",
    "        x = self.operationTwo(x)\n",
    "        x = F.sigmoid(x)\n",
    "        return x"
   ]
  },
  {
   "cell_type": "code",
   "execution_count": 35,
   "metadata": {
    "pycharm": {
     "name": "#%%\n"
    }
   },
   "outputs": [],
   "source": [
    "my_network = MyNeuralNet(input_size = 3, n_nodes = 2, output_size = 1)"
   ]
  },
  {
   "cell_type": "markdown",
   "metadata": {},
   "source": [
    "Understanding Tensors"
   ]
  },
  {
   "cell_type": "code",
   "execution_count": 36,
   "metadata": {
    "pycharm": {
     "name": "#%%\n"
    }
   },
   "outputs": [
    {
     "name": "stdout",
     "output_type": "stream",
     "text": [
      "tensor([1, 2, 3])\n"
     ]
    }
   ],
   "source": [
    "import torch\n",
    "first_order_tensor = torch.tensor([1, 2, 3])\n",
    "print(first_order_tensor)"
   ]
  },
  {
   "cell_type": "code",
   "execution_count": 37,
   "metadata": {
    "pycharm": {
     "name": "#%%\n"
    }
   },
   "outputs": [
    {
     "name": "stdout",
     "output_type": "stream",
     "text": [
      "tensor(1)\n"
     ]
    }
   ],
   "source": [
    "print(first_order_tensor[0])"
   ]
  },
  {
   "cell_type": "code",
   "execution_count": 38,
   "metadata": {
    "pycharm": {
     "name": "#%%\n"
    }
   },
   "outputs": [
    {
     "name": "stdout",
     "output_type": "stream",
     "text": [
      "tensor([1, 2])\n"
     ]
    }
   ],
   "source": [
    "print(first_order_tensor[0:2])"
   ]
  },
  {
   "cell_type": "code",
   "execution_count": 39,
   "metadata": {
    "pycharm": {
     "name": "#%%\n"
    }
   },
   "outputs": [
    {
     "name": "stdout",
     "output_type": "stream",
     "text": [
      "tensor([2, 3])\n"
     ]
    }
   ],
   "source": [
    "print(first_order_tensor[1:])"
   ]
  },
  {
   "cell_type": "code",
   "execution_count": 40,
   "metadata": {
    "pycharm": {
     "name": "#%%\n"
    }
   },
   "outputs": [
    {
     "name": "stdout",
     "output_type": "stream",
     "text": [
      "tensor([[11, 22, 33],\n",
      "        [21, 22, 23]])\n"
     ]
    }
   ],
   "source": [
    "second_order_tensor = torch.tensor([ [ 11, 22, 33 ],\n",
    " [ 21, 22, 23 ]\n",
    " ])\n",
    "print(second_order_tensor)"
   ]
  },
  {
   "cell_type": "code",
   "execution_count": 41,
   "metadata": {
    "pycharm": {
     "name": "#%%\n"
    }
   },
   "outputs": [
    {
     "name": "stdout",
     "output_type": "stream",
     "text": [
      "tensor(22)\n"
     ]
    }
   ],
   "source": [
    "print(second_order_tensor[0, 1])"
   ]
  },
  {
   "cell_type": "code",
   "execution_count": 42,
   "metadata": {
    "pycharm": {
     "name": "#%%\n"
    }
   },
   "outputs": [],
   "source": [
    "fourth_order_tensor = torch.tensor(\n",
    "[\n",
    " [\n",
    " [\n",
    " [1111, 1112],\n",
    " [1121, 1122]\n",
    " ],\n",
    " [\n",
    " [1211, 1212],\n",
    " [1221, 1222]\n",
    " ]\n",
    " ],\n",
    " [\n",
    " [\n",
    " [2111, 2112],\n",
    " [2121, 2122]\n",
    " ],\n",
    " [\n",
    " [2211, 2212],\n",
    " [2221, 2222]\n",
    " ]\n",
    " ]\n",
    "])\n"
   ]
  },
  {
   "cell_type": "code",
   "execution_count": 43,
   "metadata": {
    "pycharm": {
     "name": "#%%\n"
    }
   },
   "outputs": [
    {
     "name": "stdout",
     "output_type": "stream",
     "text": [
      "torch.Size([5])\n"
     ]
    }
   ],
   "source": [
    "my_tensor = torch.tensor([1, 2, 3, 4, 5])\n",
    "print(my_tensor.size())"
   ]
  },
  {
   "cell_type": "code",
   "execution_count": 44,
   "metadata": {
    "pycharm": {
     "name": "#%%\n"
    }
   },
   "outputs": [
    {
     "name": "stdout",
     "output_type": "stream",
     "text": [
      "torch.Size([2, 3])\n"
     ]
    }
   ],
   "source": [
    "my_tensor = torch.tensor([[11, 12, 13], [21, 22, 23]])\n",
    "print(my_tensor.size())"
   ]
  },
  {
   "cell_type": "code",
   "execution_count": 45,
   "metadata": {
    "pycharm": {
     "name": "#%%\n"
    }
   },
   "outputs": [
    {
     "name": "stdout",
     "output_type": "stream",
     "text": [
      "torch.Size([2, 2, 2, 2])\n"
     ]
    }
   ],
   "source": [
    "print(fourth_order_tensor.size())"
   ]
  },
  {
   "cell_type": "code",
   "execution_count": 46,
   "metadata": {
    "pycharm": {
     "name": "#%%\n"
    }
   },
   "outputs": [
    {
     "name": "stdout",
     "output_type": "stream",
     "text": [
      "tensor([[0.3855, 0.1029],\n",
      "        [0.3011, 0.0792],\n",
      "        [0.2385, 0.2531],\n",
      "        [0.6522, 0.1399]])\n"
     ]
    }
   ],
   "source": [
    "random_tensor = torch.rand([4, 2])\n",
    "print(random_tensor)"
   ]
  },
  {
   "cell_type": "code",
   "execution_count": 47,
   "metadata": {
    "pycharm": {
     "name": "#%%\n"
    }
   },
   "outputs": [
    {
     "data": {
      "text/plain": [
       "tensor([[0.3855, 0.1029, 0.3011, 0.0792],\n",
       "        [0.2385, 0.2531, 0.6522, 0.1399]])"
      ]
     },
     "execution_count": 47,
     "metadata": {},
     "output_type": "execute_result"
    }
   ],
   "source": [
    "random_tensor.view([2, 4])"
   ]
  },
  {
   "cell_type": "code",
   "execution_count": 48,
   "metadata": {
    "pycharm": {
     "name": "#%%\n"
    }
   },
   "outputs": [
    {
     "data": {
      "text/plain": [
       "tensor([[[0.7620, 0.6944, 0.7251, 0.0805],\n",
       "         [0.7184, 0.2348, 0.7807, 0.7231],\n",
       "         [0.0677, 0.3807, 0.2169, 0.9492],\n",
       "         [0.3610, 0.7355, 0.2769, 0.8115]],\n",
       "\n",
       "        [[0.6958, 0.6556, 0.7443, 0.8787],\n",
       "         [0.7102, 0.0985, 0.1247, 0.0023],\n",
       "         [0.9047, 0.3362, 0.0653, 0.9173],\n",
       "         [0.2406, 0.2956, 0.1606, 0.2086]]])"
      ]
     },
     "execution_count": 48,
     "metadata": {},
     "output_type": "execute_result"
    }
   ],
   "source": [
    "random_tensor = torch.rand([4, 2, 4])\n",
    "random_tensor.view([2, 4, -1])"
   ]
  },
  {
   "cell_type": "code",
   "execution_count": 49,
   "metadata": {
    "pycharm": {
     "name": "#%%\n"
    }
   },
   "outputs": [
    {
     "data": {
      "text/plain": [
       "tensor([[[0.7620, 0.6944, 0.7251, 0.0805],\n",
       "         [0.7184, 0.2348, 0.7807, 0.7231],\n",
       "         [0.0677, 0.3807, 0.2169, 0.9492],\n",
       "         [0.3610, 0.7355, 0.2769, 0.8115]],\n",
       "\n",
       "        [[0.6958, 0.6556, 0.7443, 0.8787],\n",
       "         [0.7102, 0.0985, 0.1247, 0.0023],\n",
       "         [0.9047, 0.3362, 0.0653, 0.9173],\n",
       "         [0.2406, 0.2956, 0.1606, 0.2086]]])"
      ]
     },
     "execution_count": 49,
     "metadata": {},
     "output_type": "execute_result"
    }
   ],
   "source": [
    "random_tensor.view([2, -1, 4])"
   ]
  },
  {
   "cell_type": "code",
   "execution_count": 50,
   "metadata": {
    "pycharm": {
     "name": "#%%\n"
    }
   },
   "outputs": [
    {
     "data": {
      "text/plain": [
       "tensor([8, 5])"
      ]
     },
     "execution_count": 50,
     "metadata": {},
     "output_type": "execute_result"
    }
   ],
   "source": [
    "x = torch.tensor([5, 3])\n",
    "y = torch.tensor([3, 2])\n",
    "torch.add(x, y)"
   ]
  },
  {
   "cell_type": "code",
   "execution_count": 51,
   "metadata": {
    "pycharm": {
     "name": "#%%\n"
    }
   },
   "outputs": [
    {
     "data": {
      "text/plain": [
       "tensor([2, 1])"
      ]
     },
     "execution_count": 51,
     "metadata": {},
     "output_type": "execute_result"
    }
   ],
   "source": [
    "torch.sub(x, y)"
   ]
  },
  {
   "cell_type": "code",
   "execution_count": 52,
   "metadata": {
    "pycharm": {
     "name": "#%%\n"
    }
   },
   "outputs": [
    {
     "data": {
      "text/plain": [
       "tensor([15,  6])"
      ]
     },
     "execution_count": 52,
     "metadata": {},
     "output_type": "execute_result"
    }
   ],
   "source": [
    "torch.mul(x, y)"
   ]
  },
  {
   "cell_type": "code",
   "execution_count": 53,
   "metadata": {
    "pycharm": {
     "name": "#%%\n"
    }
   },
   "outputs": [
    {
     "data": {
      "text/plain": [
       "tensor([8, 5])"
      ]
     },
     "execution_count": 53,
     "metadata": {},
     "output_type": "execute_result"
    }
   ],
   "source": [
    "x + y"
   ]
  },
  {
   "cell_type": "code",
   "execution_count": 54,
   "metadata": {
    "pycharm": {
     "name": "#%%\n"
    }
   },
   "outputs": [
    {
     "data": {
      "text/plain": [
       "tensor([1.6667, 1.5000])"
      ]
     },
     "execution_count": 54,
     "metadata": {},
     "output_type": "execute_result"
    }
   ],
   "source": [
    "torch.div(x, y)"
   ]
  },
  {
   "cell_type": "code",
   "execution_count": 55,
   "metadata": {
    "pycharm": {
     "name": "#%%\n"
    }
   },
   "outputs": [
    {
     "data": {
      "text/plain": [
       "torch.int64"
      ]
     },
     "execution_count": 55,
     "metadata": {},
     "output_type": "execute_result"
    }
   ],
   "source": [
    "x.dtype"
   ]
  },
  {
   "cell_type": "code",
   "execution_count": 56,
   "metadata": {
    "pycharm": {
     "name": "#%%\n"
    }
   },
   "outputs": [
    {
     "data": {
      "text/plain": [
       "torch.int64"
      ]
     },
     "execution_count": 56,
     "metadata": {},
     "output_type": "execute_result"
    }
   ],
   "source": [
    "y.dtype"
   ]
  },
  {
   "cell_type": "code",
   "execution_count": 57,
   "metadata": {
    "pycharm": {
     "name": "#%%\n"
    }
   },
   "outputs": [
    {
     "name": "stdout",
     "output_type": "stream",
     "text": [
      "tensor([1.6667, 1.5000])\n"
     ]
    }
   ],
   "source": [
    "x_float = torch.tensor([5, 3], dtype = torch.float32)\n",
    "y_float = torch.tensor([3, 2], dtype = torch.float32)\n",
    "print(x_float / y_float)"
   ]
  },
  {
   "cell_type": "code",
   "execution_count": 58,
   "metadata": {
    "pycharm": {
     "name": "#%%\n"
    }
   },
   "outputs": [
    {
     "data": {
      "text/plain": [
       "tensor([5., 3.])"
      ]
     },
     "execution_count": 58,
     "metadata": {},
     "output_type": "execute_result"
    }
   ],
   "source": [
    "torch.FloatTensor([5, 3])"
   ]
  },
  {
   "cell_type": "code",
   "execution_count": 59,
   "metadata": {
    "pycharm": {
     "name": "#%%\n"
    }
   },
   "outputs": [
    {
     "data": {
      "text/plain": [
       "tensor([5., 3.], dtype=torch.float64)"
      ]
     },
     "execution_count": 59,
     "metadata": {},
     "output_type": "execute_result"
    }
   ],
   "source": [
    "x.type(torch.DoubleTensor)"
   ]
  },
  {
   "cell_type": "markdown",
   "metadata": {},
   "source": [
    "# Importing our dataset as a PyTorch Tensor"
   ]
  },
  {
   "cell_type": "code",
   "execution_count": 60,
   "metadata": {
    "pycharm": {
     "name": "#%%\n"
    }
   },
   "outputs": [
    {
     "name": "stdout",
     "output_type": "stream",
     "text": [
      "[[  0.   380.     3.61   3.  ]\n",
      " [  1.   660.     3.67   3.  ]\n",
      " [  1.   800.     4.     1.  ]\n",
      " [  1.   640.     3.19   4.  ]\n",
      " [  0.   520.     2.93   4.  ]\n",
      " [  1.   760.     3.     2.  ]\n",
      " [  1.   560.     2.98   1.  ]\n",
      " [  0.   400.     3.08   2.  ]\n",
      " [  1.   540.     3.39   3.  ]]\n"
     ]
    }
   ],
   "source": [
    "import numpy as np\n",
    "admit_data = np.genfromtxt('admit_status.csv', delimiter = ',', skip_header = 1)\n",
    "print(admit_data)"
   ]
  },
  {
   "cell_type": "code",
   "execution_count": 61,
   "metadata": {
    "pycharm": {
     "name": "#%%\n"
    }
   },
   "outputs": [
    {
     "name": "stdout",
     "output_type": "stream",
     "text": [
      "tensor([[  0.0000, 380.0000,   3.6100,   3.0000],\n",
      "        [  1.0000, 660.0000,   3.6700,   3.0000],\n",
      "        [  1.0000, 800.0000,   4.0000,   1.0000],\n",
      "        [  1.0000, 640.0000,   3.1900,   4.0000],\n",
      "        [  0.0000, 520.0000,   2.9300,   4.0000],\n",
      "        [  1.0000, 760.0000,   3.0000,   2.0000],\n",
      "        [  1.0000, 560.0000,   2.9800,   1.0000],\n",
      "        [  0.0000, 400.0000,   3.0800,   2.0000],\n",
      "        [  1.0000, 540.0000,   3.3900,   3.0000]], dtype=torch.float64)\n"
     ]
    }
   ],
   "source": [
    "admit_tensor = torch.from_numpy(admit_data)\n",
    "print(admit_tensor)"
   ]
  },
  {
   "cell_type": "markdown",
   "metadata": {},
   "source": [
    "Training neural networks in PyTorch"
   ]
  },
  {
   "cell_type": "code",
   "execution_count": 62,
   "metadata": {
    "pycharm": {
     "name": "#%%\n"
    }
   },
   "outputs": [],
   "source": [
    "x_train = admit_tensor[:6, 1:].float()\n",
    "y_train = admit_tensor[:6, 0].float()\n",
    "x_test = admit_tensor[6:, 1:].float()\n",
    "y_test = admit_tensor[6:, 0].float()"
   ]
  },
  {
   "cell_type": "code",
   "execution_count": 63,
   "metadata": {
    "pycharm": {
     "name": "#%%\n"
    }
   },
   "outputs": [
    {
     "data": {
      "text/plain": [
       "tensor([[380.0000,   3.6100,   3.0000],\n",
       "        [660.0000,   3.6700,   3.0000],\n",
       "        [800.0000,   4.0000,   1.0000],\n",
       "        [640.0000,   3.1900,   4.0000],\n",
       "        [520.0000,   2.9300,   4.0000],\n",
       "        [760.0000,   3.0000,   2.0000]])"
      ]
     },
     "execution_count": 63,
     "metadata": {},
     "output_type": "execute_result"
    }
   ],
   "source": [
    "x_train"
   ]
  },
  {
   "cell_type": "code",
   "execution_count": null,
   "outputs": [],
   "source": [
    "x_test"
   ],
   "metadata": {
    "collapsed": false,
    "pycharm": {
     "name": "#%%\n"
    }
   }
  },
  {
   "cell_type": "code",
   "execution_count": null,
   "outputs": [],
   "source": [
    "criterion = nn.BCELoss()"
   ],
   "metadata": {
    "collapsed": false,
    "pycharm": {
     "name": "#%%\n"
    }
   }
  },
  {
   "cell_type": "code",
   "execution_count": 64,
   "metadata": {
    "pycharm": {
     "name": "#%%\n"
    }
   },
   "outputs": [
    {
     "data": {
      "text/plain": [
       "tensor([[560.0000,   2.9800,   1.0000],\n",
       "        [400.0000,   3.0800,   2.0000],\n",
       "        [540.0000,   3.3900,   3.0000]])"
      ]
     },
     "execution_count": 64,
     "metadata": {},
     "output_type": "execute_result"
    }
   ],
   "source": [
    "x_test"
   ]
  },
  {
   "cell_type": "code",
   "execution_count": 65,
   "metadata": {},
   "outputs": [],
   "source": [
    "criterion = nn.BCELoss()"
   ]
  },
  {
   "cell_type": "code",
   "execution_count": 66,
   "metadata": {},
   "outputs": [
    {
     "data": {
      "text/plain": [
       "tensor([[560.0000,   2.9800,   1.0000],\n",
       "        [400.0000,   3.0800,   2.0000],\n",
       "        [540.0000,   3.3900,   3.0000]])"
      ]
     },
     "execution_count": 66,
     "metadata": {},
     "output_type": "execute_result"
    }
   ],
   "source": [
    "x_test"
   ]
  },
  {
   "cell_type": "code",
   "execution_count": 67,
   "metadata": {
    "pycharm": {
     "name": "#%%\n"
    }
   },
   "outputs": [],
   "source": [
    "criterion = nn.BCELoss()"
   ]
  },
  {
   "cell_type": "code",
   "execution_count": 68,
   "metadata": {
    "pycharm": {
     "name": "#%%\n"
    }
   },
   "outputs": [],
   "source": [
    "optimizer = torch.optim.SGD(my_network.parameters(), lr=0.01)"
   ]
  },
  {
   "cell_type": "code",
   "execution_count": 69,
   "metadata": {
    "pycharm": {
     "name": "#%%\n"
    }
   },
   "outputs": [
    {
     "name": "stdout",
     "output_type": "stream",
     "text": [
      "epoch:  0 loss:  tensor(33.3333, grad_fn=<BinaryCrossEntropyBackward>)\n",
      "epoch:  1 loss:  tensor(33.3333, grad_fn=<BinaryCrossEntropyBackward>)\n",
      "epoch:  2 loss:  tensor(33.3333, grad_fn=<BinaryCrossEntropyBackward>)\n",
      "epoch:  3 loss:  tensor(33.3333, grad_fn=<BinaryCrossEntropyBackward>)\n",
      "epoch:  4 loss:  tensor(33.3333, grad_fn=<BinaryCrossEntropyBackward>)\n",
      "epoch:  5 loss:  tensor(33.3333, grad_fn=<BinaryCrossEntropyBackward>)\n",
      "epoch:  6 loss:  tensor(33.3333, grad_fn=<BinaryCrossEntropyBackward>)\n",
      "epoch:  7 loss:  tensor(33.3333, grad_fn=<BinaryCrossEntropyBackward>)\n",
      "epoch:  8 loss:  tensor(33.3333, grad_fn=<BinaryCrossEntropyBackward>)\n",
      "epoch:  9 loss:  tensor(33.3333, grad_fn=<BinaryCrossEntropyBackward>)\n",
      "epoch:  10 loss:  tensor(33.3333, grad_fn=<BinaryCrossEntropyBackward>)\n",
      "epoch:  11 loss:  tensor(33.3333, grad_fn=<BinaryCrossEntropyBackward>)\n",
      "epoch:  12 loss:  tensor(33.3333, grad_fn=<BinaryCrossEntropyBackward>)\n",
      "epoch:  13 loss:  tensor(33.3333, grad_fn=<BinaryCrossEntropyBackward>)\n",
      "epoch:  14 loss:  tensor(33.3333, grad_fn=<BinaryCrossEntropyBackward>)\n",
      "epoch:  15 loss:  tensor(33.3333, grad_fn=<BinaryCrossEntropyBackward>)\n",
      "epoch:  16 loss:  tensor(33.3333, grad_fn=<BinaryCrossEntropyBackward>)\n",
      "epoch:  17 loss:  tensor(33.3333, grad_fn=<BinaryCrossEntropyBackward>)\n",
      "epoch:  18 loss:  tensor(33.3333, grad_fn=<BinaryCrossEntropyBackward>)\n",
      "epoch:  19 loss:  tensor(33.3333, grad_fn=<BinaryCrossEntropyBackward>)\n",
      "epoch:  20 loss:  tensor(33.3333, grad_fn=<BinaryCrossEntropyBackward>)\n",
      "epoch:  21 loss:  tensor(33.3333, grad_fn=<BinaryCrossEntropyBackward>)\n",
      "epoch:  22 loss:  tensor(33.3333, grad_fn=<BinaryCrossEntropyBackward>)\n",
      "epoch:  23 loss:  tensor(33.3333, grad_fn=<BinaryCrossEntropyBackward>)\n",
      "epoch:  24 loss:  tensor(33.3333, grad_fn=<BinaryCrossEntropyBackward>)\n",
      "epoch:  25 loss:  tensor(33.3333, grad_fn=<BinaryCrossEntropyBackward>)\n",
      "epoch:  26 loss:  tensor(33.3333, grad_fn=<BinaryCrossEntropyBackward>)\n",
      "epoch:  27 loss:  tensor(33.3333, grad_fn=<BinaryCrossEntropyBackward>)\n",
      "epoch:  28 loss:  tensor(33.3333, grad_fn=<BinaryCrossEntropyBackward>)\n",
      "epoch:  29 loss:  tensor(33.3333, grad_fn=<BinaryCrossEntropyBackward>)\n",
      "epoch:  30 loss:  tensor(33.3333, grad_fn=<BinaryCrossEntropyBackward>)\n",
      "epoch:  31 loss:  tensor(33.3333, grad_fn=<BinaryCrossEntropyBackward>)\n",
      "epoch:  32 loss:  tensor(33.3333, grad_fn=<BinaryCrossEntropyBackward>)\n",
      "epoch:  33 loss:  tensor(33.3333, grad_fn=<BinaryCrossEntropyBackward>)\n",
      "epoch:  34 loss:  tensor(33.3333, grad_fn=<BinaryCrossEntropyBackward>)\n",
      "epoch:  35 loss:  tensor(33.3333, grad_fn=<BinaryCrossEntropyBackward>)\n",
      "epoch:  36 loss:  tensor(33.3333, grad_fn=<BinaryCrossEntropyBackward>)\n",
      "epoch:  37 loss:  tensor(33.3333, grad_fn=<BinaryCrossEntropyBackward>)\n",
      "epoch:  38 loss:  tensor(33.3333, grad_fn=<BinaryCrossEntropyBackward>)\n",
      "epoch:  39 loss:  tensor(33.3333, grad_fn=<BinaryCrossEntropyBackward>)\n",
      "epoch:  40 loss:  tensor(33.3333, grad_fn=<BinaryCrossEntropyBackward>)\n",
      "epoch:  41 loss:  tensor(33.3333, grad_fn=<BinaryCrossEntropyBackward>)\n",
      "epoch:  42 loss:  tensor(33.3333, grad_fn=<BinaryCrossEntropyBackward>)\n",
      "epoch:  43 loss:  tensor(33.3333, grad_fn=<BinaryCrossEntropyBackward>)\n",
      "epoch:  44 loss:  tensor(33.3333, grad_fn=<BinaryCrossEntropyBackward>)\n",
      "epoch:  45 loss:  tensor(33.3333, grad_fn=<BinaryCrossEntropyBackward>)\n",
      "epoch:  46 loss:  tensor(33.3333, grad_fn=<BinaryCrossEntropyBackward>)\n",
      "epoch:  47 loss:  tensor(33.3333, grad_fn=<BinaryCrossEntropyBackward>)\n",
      "epoch:  48 loss:  tensor(33.3333, grad_fn=<BinaryCrossEntropyBackward>)\n",
      "epoch:  49 loss:  tensor(33.3333, grad_fn=<BinaryCrossEntropyBackward>)\n",
      "epoch:  50 loss:  tensor(33.3333, grad_fn=<BinaryCrossEntropyBackward>)\n",
      "epoch:  51 loss:  tensor(33.3333, grad_fn=<BinaryCrossEntropyBackward>)\n",
      "epoch:  52 loss:  tensor(33.3333, grad_fn=<BinaryCrossEntropyBackward>)\n",
      "epoch:  53 loss:  tensor(33.3333, grad_fn=<BinaryCrossEntropyBackward>)\n",
      "epoch:  54 loss:  tensor(33.3333, grad_fn=<BinaryCrossEntropyBackward>)\n",
      "epoch:  55 loss:  tensor(33.3333, grad_fn=<BinaryCrossEntropyBackward>)\n",
      "epoch:  56 loss:  tensor(33.3333, grad_fn=<BinaryCrossEntropyBackward>)\n",
      "epoch:  57 loss:  tensor(33.3333, grad_fn=<BinaryCrossEntropyBackward>)\n",
      "epoch:  58 loss:  tensor(33.3333, grad_fn=<BinaryCrossEntropyBackward>)\n",
      "epoch:  59 loss:  tensor(33.3333, grad_fn=<BinaryCrossEntropyBackward>)\n",
      "epoch:  60 loss:  tensor(33.3333, grad_fn=<BinaryCrossEntropyBackward>)\n",
      "epoch:  61 loss:  tensor(33.3333, grad_fn=<BinaryCrossEntropyBackward>)\n",
      "epoch:  62 loss:  tensor(33.3333, grad_fn=<BinaryCrossEntropyBackward>)\n",
      "epoch:  63 loss:  tensor(33.3333, grad_fn=<BinaryCrossEntropyBackward>)\n",
      "epoch:  64 loss:  tensor(33.3333, grad_fn=<BinaryCrossEntropyBackward>)\n",
      "epoch:  65 loss:  tensor(33.3333, grad_fn=<BinaryCrossEntropyBackward>)\n",
      "epoch:  66 loss:  tensor(33.3333, grad_fn=<BinaryCrossEntropyBackward>)\n",
      "epoch:  67 loss:  tensor(33.3333, grad_fn=<BinaryCrossEntropyBackward>)\n",
      "epoch:  68 loss:  tensor(33.3333, grad_fn=<BinaryCrossEntropyBackward>)\n",
      "epoch:  69 loss:  tensor(33.3333, grad_fn=<BinaryCrossEntropyBackward>)\n",
      "epoch:  70 loss:  tensor(33.3333, grad_fn=<BinaryCrossEntropyBackward>)\n",
      "epoch:  71 loss:  tensor(33.3333, grad_fn=<BinaryCrossEntropyBackward>)\n",
      "epoch:  72 loss:  tensor(33.3333, grad_fn=<BinaryCrossEntropyBackward>)\n",
      "epoch:  73 loss:  tensor(33.3333, grad_fn=<BinaryCrossEntropyBackward>)\n",
      "epoch:  74 loss:  tensor(33.3333, grad_fn=<BinaryCrossEntropyBackward>)\n",
      "epoch:  75 loss:  tensor(33.3333, grad_fn=<BinaryCrossEntropyBackward>)\n",
      "epoch:  76 loss:  tensor(33.3333, grad_fn=<BinaryCrossEntropyBackward>)\n",
      "epoch:  77 loss:  tensor(33.3333, grad_fn=<BinaryCrossEntropyBackward>)\n",
      "epoch:  78 loss:  tensor(33.3333, grad_fn=<BinaryCrossEntropyBackward>)\n",
      "epoch:  79 loss:  tensor(33.3333, grad_fn=<BinaryCrossEntropyBackward>)\n",
      "epoch:  80 loss:  tensor(33.3333, grad_fn=<BinaryCrossEntropyBackward>)\n",
      "epoch:  81 loss:  tensor(33.3333, grad_fn=<BinaryCrossEntropyBackward>)\n",
      "epoch:  82 loss:  tensor(33.3333, grad_fn=<BinaryCrossEntropyBackward>)\n",
      "epoch:  83 loss:  tensor(33.3333, grad_fn=<BinaryCrossEntropyBackward>)\n",
      "epoch:  84 loss:  tensor(33.3333, grad_fn=<BinaryCrossEntropyBackward>)\n",
      "epoch:  85 loss:  tensor(33.3333, grad_fn=<BinaryCrossEntropyBackward>)\n",
      "epoch:  86 loss:  tensor(33.3333, grad_fn=<BinaryCrossEntropyBackward>)\n",
      "epoch:  87 loss:  tensor(33.3333, grad_fn=<BinaryCrossEntropyBackward>)\n",
      "epoch:  88 loss:  tensor(33.3333, grad_fn=<BinaryCrossEntropyBackward>)\n",
      "epoch:  89 loss:  tensor(33.3333, grad_fn=<BinaryCrossEntropyBackward>)\n",
      "epoch:  90 loss:  tensor(33.3333, grad_fn=<BinaryCrossEntropyBackward>)\n",
      "epoch:  91 loss:  tensor(33.3333, grad_fn=<BinaryCrossEntropyBackward>)\n",
      "epoch:  92 loss:  tensor(33.3333, grad_fn=<BinaryCrossEntropyBackward>)\n",
      "epoch:  93 loss:  tensor(33.3333, grad_fn=<BinaryCrossEntropyBackward>)\n",
      "epoch:  94 loss:  tensor(33.3333, grad_fn=<BinaryCrossEntropyBackward>)\n",
      "epoch:  95 loss:  tensor(33.3333, grad_fn=<BinaryCrossEntropyBackward>)\n",
      "epoch:  96 loss:  tensor(33.3333, grad_fn=<BinaryCrossEntropyBackward>)\n",
      "epoch:  97 loss:  tensor(33.3333, grad_fn=<BinaryCrossEntropyBackward>)\n",
      "epoch:  98 loss:  tensor(33.3333, grad_fn=<BinaryCrossEntropyBackward>)\n",
      "epoch:  99 loss:  tensor(33.3333, grad_fn=<BinaryCrossEntropyBackward>)\n"
     ]
    },
    {
     "name": "stderr",
     "output_type": "stream",
     "text": [
      "/usr/local/lib/python3.8/dist-packages/torch/nn/functional.py:1639: UserWarning: nn.functional.sigmoid is deprecated. Use torch.sigmoid instead.\n",
      "  warnings.warn(\"nn.functional.sigmoid is deprecated. Use torch.sigmoid instead.\")\n",
      "/usr/local/lib/python3.8/dist-packages/torch/autograd/__init__.py:130: UserWarning: CUDA initialization: Found no NVIDIA driver on your system. Please check that you have an NVIDIA GPU and installed a driver from http://www.nvidia.com/Download/index.aspx (Triggered internally at  /pytorch/c10/cuda/CUDAFunctions.cpp:100.)\n",
      "  Variable._execution_engine.run_backward(\n"
     ]
    }
   ],
   "source": [
    "for epoch in range(100):\n",
    "    y_pred = torch.squeeze(my_network(x_train))\n",
    "    loss_score = criterion(y_pred, y_train)\n",
    "    print('epoch: ', epoch, 'loss: ', loss_score)\n",
    "    \n",
    "    optimizer.zero_grad()\n",
    "    loss_score.backward()\n",
    "    optimizer.step()"
   ]
  },
  {
   "cell_type": "code",
   "execution_count": null,
   "metadata": {
    "pycharm": {
     "name": "#%%\n"
    }
   },
   "outputs": [],
   "source": []
  }
 ],
 "metadata": {
  "kernelspec": {
   "display_name": "Python 3",
   "language": "python",
   "name": "python3"
  },
  "language_info": {
   "codemirror_mode": {
    "name": "ipython",
    "version": 3
   },
   "file_extension": ".py",
   "mimetype": "text/x-python",
   "name": "python",
   "nbconvert_exporter": "python",
   "pygments_lexer": "ipython3",
   "version": "3.8.10"
  }
 },
 "nbformat": 4,
 "nbformat_minor": 2
}